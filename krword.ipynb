{
 "cells": [
  {
   "cell_type": "code",
   "execution_count": 12,
   "metadata": {
    "scrolled": true
   },
   "outputs": [
    {
     "name": "stdout",
     "output_type": "stream",
     "text": [
      "scan vocabs ... \n",
      "num vocabs = 24\n",
      "done = 10\n",
      "      본인:\t1.3879\n",
      "     바나나:\t1.1917\n",
      "scan vocabs ... \n",
      "num vocabs = 24\n",
      "done = 10\n",
      "{'본인': 1.3879325622327103, '바나나': 1.1916700791059744}\n"
     ]
    }
   ],
   "source": [
    "from krwordrank.word import KRWordRank\n",
    "from krwordrank.hangle import normalize\n",
    " \n",
    "min_count = 5   # 단어의 최소 출현 빈도수 (그래프 생성 시)\n",
    "max_length = 10 # 단어의 최대 길이\n",
    "verbose =True\n",
    "wordrank_extractor = KRWordRank(min_count, max_length , verbose)\n",
    " \n",
    "beta = 0.85    # PageRank의 decaying factor beta\n",
    "max_iter = 10\n",
    " \n",
    "with open('test.txt', 'r',encoding='UTF8') as f:\n",
    "    texts = []\n",
    "    for line in f:\n",
    "        texts.append(line)\n",
    " \n",
    "texts = [normalize(text,english=False , number=True) for text in texts ]\n",
    "keywords, rank, graph = wordrank_extractor.extract(texts, beta, max_iter)\n",
    " \n",
    "for word, r in sorted(keywords.items(), key=lambda x:x[1], reverse=True)[:30]:\n",
    "        print('%8s:\\t%.4f' % (word, r))\n",
    " \n",
    "from krwordrank.word import summarize_with_keywords\n",
    " \n",
    "stopwords ={'제거','할','단어'}\n",
    "keywords = summarize_with_keywords(texts, min_count=5, max_length=10,\n",
    "    beta=0.85, max_iter=10, stopwords=stopwords, verbose=True)\n",
    "keywords = summarize_with_keywords(texts) # with default arguments\n",
    "print(keywords)"
   ]
  },
  {
   "cell_type": "code",
   "execution_count": null,
   "metadata": {},
   "outputs": [],
   "source": []
  },
  {
   "cell_type": "code",
   "execution_count": null,
   "metadata": {},
   "outputs": [],
   "source": []
  },
  {
   "cell_type": "code",
   "execution_count": null,
   "metadata": {},
   "outputs": [],
   "source": []
  },
  {
   "cell_type": "code",
   "execution_count": null,
   "metadata": {},
   "outputs": [],
   "source": []
  },
  {
   "cell_type": "code",
   "execution_count": null,
   "metadata": {},
   "outputs": [],
   "source": []
  }
 ],
 "metadata": {
  "kernelspec": {
   "display_name": "Python 3",
   "language": "python",
   "name": "python3"
  }
 },
 "nbformat": 4,
 "nbformat_minor": 2
}
