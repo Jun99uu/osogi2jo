{
 "cells": [
  {
   "cell_type": "code",
   "execution_count": 1,
   "metadata": {},
   "outputs": [
    {
     "name": "stdout",
     "output_type": "stream",
     "text": [
      "scan vocabs ... \n",
      "num vocabs = 87\n",
      "\n",
      "iter = 1\n",
      "iter = 2\n",
      "iter = 3 Early stopped.\n",
      "done\n",
      "소요 시간 :  0.0025968551635742188\n",
      "문장 측정 수 :  150\n",
      "길이 :  16\n",
      "감정 분석 소요 시간 :  0.0480046272277832\n",
      "감정 총합 :  -1.5635438659772385\n",
      "[('좋아하는', 2.3186477967791577), ('싫어하는', -1.9604806821984924), ('악몽', -1.9217109805579038)]\n",
      "============================================================================================================\n"
     ]
    }
   ],
   "source": [
    "!python main.py"
   ]
  },
  {
   "cell_type": "code",
   "execution_count": null,
   "metadata": {},
   "outputs": [],
   "source": []
  }
 ],
 "metadata": {
  "kernelspec": {
   "display_name": "Python 3",
   "language": "python",
   "name": "python3"
  },
  "language_info": {
   "codemirror_mode": {
    "name": "ipython",
    "version": 3
   },
   "file_extension": ".py",
   "mimetype": "text/x-python",
   "name": "python",
   "nbconvert_exporter": "python",
   "pygments_lexer": "ipython3",
   "version": "3.7.3"
  }
 },
 "nbformat": 4,
 "nbformat_minor": 2
}
